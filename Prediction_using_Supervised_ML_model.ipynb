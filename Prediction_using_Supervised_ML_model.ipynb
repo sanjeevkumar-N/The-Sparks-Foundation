{
  "nbformat": 4,
  "nbformat_minor": 0,
  "metadata": {
    "colab": {
      "name": " Prediction using Supervised ML model.ipynb",
      "provenance": [],
      "collapsed_sections": []
    },
    "kernelspec": {
      "name": "python3",
      "display_name": "Python 3"
    },
    "language_info": {
      "name": "python"
    }
  },
  "cells": [
    {
      "cell_type": "markdown",
      "metadata": {
        "id": "pCPCfJwPXORc"
      },
      "source": [
        "# **Author: Sanjeev kumar**"
      ]
    },
    {
      "cell_type": "markdown",
      "metadata": {
        "id": "8zZtuefjP4hJ"
      },
      "source": [
        "# **The Sparks Foundation: Data Science and Business Analytics (GRIP June '21)** \n",
        "\n"
      ]
    },
    {
      "cell_type": "markdown",
      "metadata": {
        "id": "9b7zsVIaVHve"
      },
      "source": [
        "# **Task 1: Prediction using Supervised ML model**"
      ]
    },
    {
      "cell_type": "markdown",
      "metadata": {
        "id": "tTISYuDUU_5V"
      },
      "source": [
        "**Problem Statement**"
      ]
    },
    {
      "cell_type": "markdown",
      "metadata": {
        "id": "FvAQgo90VvEB"
      },
      "source": [
        "\n",
        "This task requires a Supervised ML model to be built to understand the correlation between number of hours studied and expected score."
      ]
    },
    {
      "cell_type": "markdown",
      "metadata": {
        "id": "khYKnijTVGNN"
      },
      "source": [
        "**Task to be performed**"
      ]
    },
    {
      "cell_type": "markdown",
      "metadata": {
        "id": "groYDw3UU6Qe"
      },
      "source": [
        "Depending on the model generated, expected score when studying for 9.25 hours needs to be predicted."
      ]
    },
    {
      "cell_type": "markdown",
      "metadata": {
        "id": "8_cYJilDQA3D"
      },
      "source": [
        "**Step 1: Reading and Understanding the Data and visualization**"
      ]
    },
    {
      "cell_type": "code",
      "metadata": {
        "id": "po-XP08GQD4j"
      },
      "source": [
        "#Importing libraries\n",
        "import numpy as np\n",
        "import pandas as pd\n",
        "import matplotlib.pyplot as plt\n",
        "import seaborn as sns\n",
        "%matplotlib inline\n",
        "\n",
        "from sklearn.model_selection import train_test_split\n",
        "from sklearn.linear_model import LinearRegression\n",
        "from sklearn.metrics import r2_score"
      ],
      "execution_count": 1,
      "outputs": []
    },
    {
      "cell_type": "code",
      "metadata": {
        "colab": {
          "base_uri": "https://localhost:8080/",
          "height": 204
        },
        "id": "9ZPqbGWhQO7i",
        "outputId": "5b900d53-3066-4123-c64a-4e69698ad088"
      },
      "source": [
        "# Reading data from remote link\n",
        "students = pd.read_csv(\"http://bit.ly/w-data\")\n",
        "students.head()"
      ],
      "execution_count": 2,
      "outputs": [
        {
          "output_type": "execute_result",
          "data": {
            "text/html": [
              "<div>\n",
              "<style scoped>\n",
              "    .dataframe tbody tr th:only-of-type {\n",
              "        vertical-align: middle;\n",
              "    }\n",
              "\n",
              "    .dataframe tbody tr th {\n",
              "        vertical-align: top;\n",
              "    }\n",
              "\n",
              "    .dataframe thead th {\n",
              "        text-align: right;\n",
              "    }\n",
              "</style>\n",
              "<table border=\"1\" class=\"dataframe\">\n",
              "  <thead>\n",
              "    <tr style=\"text-align: right;\">\n",
              "      <th></th>\n",
              "      <th>Hours</th>\n",
              "      <th>Scores</th>\n",
              "    </tr>\n",
              "  </thead>\n",
              "  <tbody>\n",
              "    <tr>\n",
              "      <th>0</th>\n",
              "      <td>2.5</td>\n",
              "      <td>21</td>\n",
              "    </tr>\n",
              "    <tr>\n",
              "      <th>1</th>\n",
              "      <td>5.1</td>\n",
              "      <td>47</td>\n",
              "    </tr>\n",
              "    <tr>\n",
              "      <th>2</th>\n",
              "      <td>3.2</td>\n",
              "      <td>27</td>\n",
              "    </tr>\n",
              "    <tr>\n",
              "      <th>3</th>\n",
              "      <td>8.5</td>\n",
              "      <td>75</td>\n",
              "    </tr>\n",
              "    <tr>\n",
              "      <th>4</th>\n",
              "      <td>3.5</td>\n",
              "      <td>30</td>\n",
              "    </tr>\n",
              "  </tbody>\n",
              "</table>\n",
              "</div>"
            ],
            "text/plain": [
              "   Hours  Scores\n",
              "0    2.5      21\n",
              "1    5.1      47\n",
              "2    3.2      27\n",
              "3    8.5      75\n",
              "4    3.5      30"
            ]
          },
          "metadata": {
            "tags": []
          },
          "execution_count": 2
        }
      ]
    },
    {
      "cell_type": "code",
      "metadata": {
        "colab": {
          "base_uri": "https://localhost:8080/"
        },
        "id": "FfvNv6wuQS1D",
        "outputId": "1d58dbf1-9849-417d-9ae3-1ab8f80b6947"
      },
      "source": [
        "students.shape"
      ],
      "execution_count": 3,
      "outputs": [
        {
          "output_type": "execute_result",
          "data": {
            "text/plain": [
              "(25, 2)"
            ]
          },
          "metadata": {
            "tags": []
          },
          "execution_count": 3
        }
      ]
    },
    {
      "cell_type": "code",
      "metadata": {
        "colab": {
          "base_uri": "https://localhost:8080/"
        },
        "id": "jwxaloNnQYC9",
        "outputId": "3305fc60-d262-4d3d-b5c9-53b5e60f05f8"
      },
      "source": [
        "students.info()"
      ],
      "execution_count": 4,
      "outputs": [
        {
          "output_type": "stream",
          "text": [
            "<class 'pandas.core.frame.DataFrame'>\n",
            "RangeIndex: 25 entries, 0 to 24\n",
            "Data columns (total 2 columns):\n",
            " #   Column  Non-Null Count  Dtype  \n",
            "---  ------  --------------  -----  \n",
            " 0   Hours   25 non-null     float64\n",
            " 1   Scores  25 non-null     int64  \n",
            "dtypes: float64(1), int64(1)\n",
            "memory usage: 528.0 bytes\n"
          ],
          "name": "stdout"
        }
      ]
    },
    {
      "cell_type": "markdown",
      "metadata": {
        "id": "Zz1D-y6_QkIS"
      },
      "source": [
        "There are 25 lines of data."
      ]
    },
    {
      "cell_type": "code",
      "metadata": {
        "colab": {
          "base_uri": "https://localhost:8080/",
          "height": 295
        },
        "id": "lcN7K1D8QldG",
        "outputId": "6114ddc4-5070-475f-f69f-d306f30c167d"
      },
      "source": [
        "#Plotting the distribution of scores\n",
        "sns.scatterplot(data=students, x= 'Hours',y='Scores')\n",
        "plt.title('Hours Studied Vs Percentage Scored')\n",
        "plt.xlabel('Hours studied')\n",
        "plt.ylabel('Percentage scored')\n",
        "plt.show()"
      ],
      "execution_count": 5,
      "outputs": [
        {
          "output_type": "display_data",
          "data": {
            "image/png": "[encoded data removed]",
            "text/plain": [
              "<Figure size 432x288 with 1 Axes>"
            ]
          },
          "metadata": {
            "tags": [],
            "needs_background": "light"
          }
        }
      ]
    },
    {
      "cell_type": "markdown",
      "metadata": {
        "id": "k4yYackaQtA0"
      },
      "source": [
        "From the graph above, we can clearly see that there is a positive linear relation between the number of hours studied and percentage of score.\n",
        "With only 2 variables - Hours(independent variable) and Scores(dependent variable), this can be modelled using Simple Linear Regression."
      ]
    },
    {
      "cell_type": "code",
      "metadata": {
        "id": "VyTt4rbqQuP9"
      },
      "source": [
        ""
      ],
      "execution_count": null,
      "outputs": []
    },
    {
      "cell_type": "markdown",
      "metadata": {
        "id": "uY_Qnuz4Qzci"
      },
      "source": [
        "**Step 2: Data preparation**"
      ]
    },
    {
      "cell_type": "code",
      "metadata": {
        "id": "GSWBJxxZQ0fd"
      },
      "source": [
        "# Splitting data into input variable X and target variable y\n",
        "X = students['Hours']\n",
        "y=students['Scores']"
      ],
      "execution_count": 6,
      "outputs": []
    },
    {
      "cell_type": "code",
      "metadata": {
        "colab": {
          "base_uri": "https://localhost:8080/"
        },
        "id": "Zwlk8VHBQ7B1",
        "outputId": "4a63f00f-5974-43ef-82f5-2ef8a33b0f2a"
      },
      "source": [
        "X.head()"
      ],
      "execution_count": 7,
      "outputs": [
        {
          "output_type": "execute_result",
          "data": {
            "text/plain": [
              "0    2.5\n",
              "1    5.1\n",
              "2    3.2\n",
              "3    8.5\n",
              "4    3.5\n",
              "Name: Hours, dtype: float64"
            ]
          },
          "metadata": {
            "tags": []
          },
          "execution_count": 7
        }
      ]
    },
    {
      "cell_type": "code",
      "metadata": {
        "colab": {
          "base_uri": "https://localhost:8080/"
        },
        "id": "O_ZCSAugQ8ov",
        "outputId": "5aa9ac06-4739-4e7e-dac0-e005ee36ad4c"
      },
      "source": [
        "y.head()"
      ],
      "execution_count": 9,
      "outputs": [
        {
          "output_type": "execute_result",
          "data": {
            "text/plain": [
              "0    21\n",
              "1    47\n",
              "2    27\n",
              "3    75\n",
              "4    30\n",
              "Name: Scores, dtype: int64"
            ]
          },
          "metadata": {
            "tags": []
          },
          "execution_count": 9
        }
      ]
    },
    {
      "cell_type": "markdown",
      "metadata": {
        "id": "YueIl40tREmc"
      },
      "source": [
        "."
      ]
    },
    {
      "cell_type": "markdown",
      "metadata": {
        "id": "PuoIBXJVRL2y"
      },
      "source": [
        "**Step 3: Splitting the Data into Training and Testing Sets**"
      ]
    },
    {
      "cell_type": "code",
      "metadata": {
        "id": "sqWPgnfVRNLy"
      },
      "source": [
        "# Splitting to train and test\n",
        "np.random.seed(0)\n",
        "X_train,X_test,y_train,y_test = train_test_split(X,y,train_size=0.7,random_state=42)"
      ],
      "execution_count": 10,
      "outputs": []
    },
    {
      "cell_type": "code",
      "metadata": {
        "colab": {
          "base_uri": "https://localhost:8080/"
        },
        "id": "pl2urdYkRTS-",
        "outputId": "09e6db0d-fc7d-450b-dbbc-38eff9fd62b0"
      },
      "source": [
        "print('Length of train dataset is: ',len(X_train))\n",
        "print('Length of test dataset is: ',len(X_test))"
      ],
      "execution_count": 11,
      "outputs": [
        {
          "output_type": "stream",
          "text": [
            "Length of train dataset is:  17\n",
            "Length of test dataset is:  8\n"
          ],
          "name": "stdout"
        }
      ]
    },
    {
      "cell_type": "code",
      "metadata": {
        "id": "TnLFGCofRXcL"
      },
      "source": [
        "X_train = X_train.values.reshape(-1,1)\n",
        "X_test = X_test.values.reshape(-1,1)"
      ],
      "execution_count": 12,
      "outputs": []
    },
    {
      "cell_type": "code",
      "metadata": {
        "colab": {
          "base_uri": "https://localhost:8080/"
        },
        "id": "DUFzHlbPRcgs",
        "outputId": "3936aa96-5836-442e-d261-2eb06b4f3369"
      },
      "source": [
        "print(X_train.shape)\n",
        "print(y_train.shape)\n",
        "print(X_test.shape)\n",
        "print(y_test.shape)"
      ],
      "execution_count": 13,
      "outputs": [
        {
          "output_type": "stream",
          "text": [
            "(17, 1)\n",
            "(17,)\n",
            "(8, 1)\n",
            "(8,)\n"
          ],
          "name": "stdout"
        }
      ]
    },
    {
      "cell_type": "markdown",
      "metadata": {
        "id": "TY8dE1LORrWF"
      },
      "source": [
        "."
      ]
    },
    {
      "cell_type": "markdown",
      "metadata": {
        "id": "_iBv8BEnRs7c"
      },
      "source": [
        "**Step 4: Building a linear model**\n"
      ]
    },
    {
      "cell_type": "code",
      "metadata": {
        "colab": {
          "base_uri": "https://localhost:8080/"
        },
        "id": "gVrRF2YERw7Z",
        "outputId": "e3aacf1a-5137-46da-c370-d4a52854857a"
      },
      "source": [
        "# Using linear regression from scikit learn to model data\n",
        "lr = LinearRegression()\n",
        "lr.fit(X_train,y_train)"
      ],
      "execution_count": 14,
      "outputs": [
        {
          "output_type": "execute_result",
          "data": {
            "text/plain": [
              "LinearRegression(copy_X=True, fit_intercept=True, n_jobs=None, normalize=False)"
            ]
          },
          "metadata": {
            "tags": []
          },
          "execution_count": 14
        }
      ]
    },
    {
      "cell_type": "code",
      "metadata": {
        "colab": {
          "base_uri": "https://localhost:8080/"
        },
        "id": "dm1BkwyrR5IV",
        "outputId": "0b2aaf75-d8c5-4aac-c7a4-82f602bba19b"
      },
      "source": [
        "# Printing the parameters\n",
        "print(lr.intercept_)\n",
        "print(lr.coef_)"
      ],
      "execution_count": 15,
      "outputs": [
        {
          "output_type": "stream",
          "text": [
            "2.794196676599803\n",
            "[9.71054094]\n"
          ],
          "name": "stdout"
        }
      ]
    },
    {
      "cell_type": "markdown",
      "metadata": {
        "id": "sMyhOWPwR7iV"
      },
      "source": [
        "The equation we get is: Percentage_scores = 2.794+9.71*Number_of_hours_Studied"
      ]
    },
    {
      "cell_type": "code",
      "metadata": {
        "id": "QVdcb9pCR-uk"
      },
      "source": [
        "# Make predictions\n",
        "y_train_pred = lr.predict(X_train)"
      ],
      "execution_count": 16,
      "outputs": []
    },
    {
      "cell_type": "code",
      "metadata": {
        "colab": {
          "base_uri": "https://localhost:8080/"
        },
        "id": "Ieg2HogESHTD",
        "outputId": "3210ebc6-b93e-4cc1-8913-7056472c9ee8"
      },
      "source": [
        "# Evaluate the model\n",
        "\n",
        "print(r2_score(y_true=y_train,y_pred=y_train_pred))"
      ],
      "execution_count": 17,
      "outputs": [
        {
          "output_type": "stream",
          "text": [
            "0.9536486503889446\n"
          ],
          "name": "stdout"
        }
      ]
    },
    {
      "cell_type": "markdown",
      "metadata": {
        "id": "NEy7HnX4SIxS"
      },
      "source": [
        "The r2 score value = 0.95 shows a very good fit"
      ]
    },
    {
      "cell_type": "markdown",
      "metadata": {
        "id": "4PbZLMCdSSQU"
      },
      "source": [
        ".\n"
      ]
    },
    {
      "cell_type": "markdown",
      "metadata": {
        "id": "HVQld4xlST0V"
      },
      "source": [
        "**Step 5: Predictions on the Test Set**"
      ]
    },
    {
      "cell_type": "code",
      "metadata": {
        "id": "RY7yhwl9SVOy"
      },
      "source": [
        "y_pred = lr.predict(X_test)"
      ],
      "execution_count": 18,
      "outputs": []
    },
    {
      "cell_type": "code",
      "metadata": {
        "colab": {
          "base_uri": "https://localhost:8080/",
          "height": 204
        },
        "id": "TjuTYWkMScPV",
        "outputId": "149a5500-7ed1-49d1-f51c-0fe772613f82"
      },
      "source": [
        "# Comparing Actual and predicted\n",
        "df = pd.DataFrame({'Actual':y_test, 'Predicted':y_pred})\n",
        "df.head()"
      ],
      "execution_count": 19,
      "outputs": [
        {
          "output_type": "execute_result",
          "data": {
            "text/html": [
              "<div>\n",
              "<style scoped>\n",
              "    .dataframe tbody tr th:only-of-type {\n",
              "        vertical-align: middle;\n",
              "    }\n",
              "\n",
              "    .dataframe tbody tr th {\n",
              "        vertical-align: top;\n",
              "    }\n",
              "\n",
              "    .dataframe thead th {\n",
              "        text-align: right;\n",
              "    }\n",
              "</style>\n",
              "<table border=\"1\" class=\"dataframe\">\n",
              "  <thead>\n",
              "    <tr style=\"text-align: right;\">\n",
              "      <th></th>\n",
              "      <th>Actual</th>\n",
              "      <th>Predicted</th>\n",
              "    </tr>\n",
              "  </thead>\n",
              "  <tbody>\n",
              "    <tr>\n",
              "      <th>8</th>\n",
              "      <td>81</td>\n",
              "      <td>83.391686</td>\n",
              "    </tr>\n",
              "    <tr>\n",
              "      <th>16</th>\n",
              "      <td>30</td>\n",
              "      <td>27.070549</td>\n",
              "    </tr>\n",
              "    <tr>\n",
              "      <th>0</th>\n",
              "      <td>21</td>\n",
              "      <td>27.070549</td>\n",
              "    </tr>\n",
              "    <tr>\n",
              "      <th>23</th>\n",
              "      <td>76</td>\n",
              "      <td>69.796929</td>\n",
              "    </tr>\n",
              "    <tr>\n",
              "      <th>11</th>\n",
              "      <td>62</td>\n",
              "      <td>60.086388</td>\n",
              "    </tr>\n",
              "  </tbody>\n",
              "</table>\n",
              "</div>"
            ],
            "text/plain": [
              "    Actual  Predicted\n",
              "8       81  83.391686\n",
              "16      30  27.070549\n",
              "0       21  27.070549\n",
              "23      76  69.796929\n",
              "11      62  60.086388"
            ]
          },
          "metadata": {
            "tags": []
          },
          "execution_count": 19
        }
      ]
    },
    {
      "cell_type": "code",
      "metadata": {
        "colab": {
          "base_uri": "https://localhost:8080/"
        },
        "id": "92L1C56bSg8e",
        "outputId": "22733603-c2d3-481c-c1c1-42507a20e6e9"
      },
      "source": [
        "print(r2_score(y_true=y_test,y_pred=y_pred))"
      ],
      "execution_count": 20,
      "outputs": [
        {
          "output_type": "stream",
          "text": [
            "0.9487647340257012\n"
          ],
          "name": "stdout"
        }
      ]
    },
    {
      "cell_type": "markdown",
      "metadata": {
        "id": "OuUJeR_NSigR"
      },
      "source": [
        "The r2 score for test set is very close to that for train set indicating that the model is not overfitted."
      ]
    },
    {
      "cell_type": "code",
      "metadata": {
        "colab": {
          "base_uri": "https://localhost:8080/",
          "height": 295
        },
        "id": "BFy7Fil4Sqo9",
        "outputId": "b61b9acf-e9d2-4111-d6a9-a5d349e3c2b1"
      },
      "source": [
        "# Plotting the above equation\n",
        "line = float(lr.intercept_)+float(lr.coef_)*X\n",
        "\n",
        "# Plotting for train dataset\n",
        "plt.scatter(X,y)\n",
        "plt.plot(X,line,'r')\n",
        "plt.xlabel('Hours Studied')\n",
        "plt.ylabel('Percentage Scored')\n",
        "plt.title('Predictions on train data')\n",
        "plt.show()"
      ],
      "execution_count": 21,
      "outputs": [
        {
          "output_type": "display_data",
          "data": {
            "image/png": "[encoded data removed]",
            "text/plain": [
              "<Figure size 432x288 with 1 Axes>"
            ]
          },
          "metadata": {
            "tags": [],
            "needs_background": "light"
          }
        }
      ]
    },
    {
      "cell_type": "markdown",
      "metadata": {
        "id": "rJQN_DW0Swam"
      },
      "source": [
        "It can be observed that the actual data is very close to the predicted values."
      ]
    },
    {
      "cell_type": "markdown",
      "metadata": {
        "id": "kbGtGD1ZWseM"
      },
      "source": [
        ""
      ]
    },
    {
      "cell_type": "markdown",
      "metadata": {
        "id": "3IuHPZcFS0gm"
      },
      "source": [
        "."
      ]
    },
    {
      "cell_type": "markdown",
      "metadata": {
        "id": "dCdqYqPlS6BG"
      },
      "source": [
        "**Step 6: Predicting the scores for requested number of hours**"
      ]
    },
    {
      "cell_type": "code",
      "metadata": {
        "colab": {
          "base_uri": "https://localhost:8080/"
        },
        "id": "Byoel8BpS7jk",
        "outputId": "c214b48c-e709-4997-ff9a-af01ef08f5fa"
      },
      "source": [
        "hours = 9.25\n",
        "score_pred = lr.predict([[hours]])\n",
        "print('Number of hours studied = {}'.format(hours))\n",
        "print('Predicted score = {}'.format(score_pred[0]))"
      ],
      "execution_count": 22,
      "outputs": [
        {
          "output_type": "stream",
          "text": [
            "Number of hours studied = 9.25\n",
            "Predicted score = 92.61670033840096\n"
          ],
          "name": "stdout"
        }
      ]
    },
    {
      "cell_type": "markdown",
      "metadata": {
        "id": "oYG8bjGzTsr3"
      },
      "source": [
        "## **CONCLUSION**"
      ]
    },
    {
      "cell_type": "markdown",
      "metadata": {
        "id": "R37CfOijT0je"
      },
      "source": [
        "**I was successfully able to carry-out prediction ML task and was able to evaluate the model's perfomance on various parameters**"
      ]
    }
  ]
}